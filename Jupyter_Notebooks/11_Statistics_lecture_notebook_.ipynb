{
  "nbformat": 4,
  "nbformat_minor": 0,
  "metadata": {
    "colab": {
      "name": "11_Statistics_lecture_notebook_.ipynb",
      "version": "0.3.2",
      "provenance": [],
      "collapsed_sections": [],
      "include_colab_link": true
    },
    "kernelspec": {
      "display_name": "Python [default]",
      "language": "python",
      "name": "python3"
    }
  },
  "cells": [
    {
      "cell_type": "markdown",
      "metadata": {
        "id": "view-in-github",
        "colab_type": "text"
      },
      "source": [
        "<a href=\"https://colab.research.google.com/github/leovcunha/CS_learning_projects/blob/master/Jupyter_Notebooks/11_Statistics_lecture_notebook_.ipynb\" target=\"_parent\"><img src=\"https://colab.research.google.com/assets/colab-badge.svg\" alt=\"Open In Colab\"/></a>"
      ]
    },
    {
      "metadata": {
        "id": "jXinTVyU7Akv",
        "colab_type": "text"
      },
      "cell_type": "markdown",
      "source": [
        "## Estimating the Mean\n",
        "\n",
        "We demonstrate how the sample mean approximates the distribution mean. \n",
        "\n",
        "### Convergence of Sample Mean\n",
        "\n",
        "In lecture we saw that if we take $n$ samples, $X_1,\\ldots, X_n$, the sample mean $\\overline X=\\frac{X_1+\\ldots+X_n}n$ converges to the distribution mean $\\mu$. The following program demonstrate that."
      ]
    },
    {
      "metadata": {
        "scrolled": true,
        "id": "DfBI0Xvr7Akw",
        "colab_type": "code",
        "outputId": "f884cc36-4a79-4356-df8e-40656752edc3",
        "colab": {
          "base_uri": "https://localhost:8080/"
        }
      },
      "cell_type": "code",
      "source": [
        "%pylab inline\n",
        "import ipywidgets as widgets\n",
        "from scipy.stats import norm, uniform"
      ],
      "execution_count": 2,
      "outputs": [
        {
          "output_type": "stream",
          "text": [
            "Populating the interactive namespace from numpy and matplotlib\n"
          ],
          "name": "stdout"
        },
        {
          "output_type": "stream",
          "text": [
            "/usr/local/lib/python3.6/dist-packages/IPython/core/magics/pylab.py:161: UserWarning: pylab import has clobbered these variables: ['norm', 'uniform']\n",
            "`%matplotlib` prevents importing * from pylab and numpy\n",
            "  \"\\n`%matplotlib` prevents importing * from pylab and numpy\"\n"
          ],
          "name": "stderr"
        }
      ]
    },
    {
      "metadata": {
        "scrolled": true,
        "id": "mNYoEKqo7Ak2",
        "colab_type": "code",
        "colab": {}
      },
      "cell_type": "code",
      "source": [
        "def Sample_Mean(n,r):\n",
        "# n: sample size\n",
        "# r: number of experiments\n",
        "\n",
        "    figure(figsize=(20,10))\n",
        "    xlim([1,n])\n",
        "    ylim([-1, 1])\n",
        "    grid()\n",
        "    \n",
        "    x = range(1,n+1)\n",
        "    z = 1.0/sqrt(x)\n",
        "    plot(x, z,'k--')\n",
        "    plot(x, negative(z), 'k--')\n",
        "    \n",
        "    for i in range(r):\n",
        "        y = random.normal(0, 1, n)\n",
        "        m = divide(cumsum(y), x)\n",
        "        plot(x, m, alpha=0.5)"
      ],
      "execution_count": 0,
      "outputs": []
    },
    {
      "metadata": {
        "id": "0AU5AFx87Ak5",
        "colab_type": "text"
      },
      "cell_type": "markdown",
      "source": [
        "The following graph shows how the sample mean $\\overline X$ converges to the distribution mean $\\mu$. The underlying distribution is standard normal. $n$ is the number of samples, and $r$ is the number of experiments.\n",
        "\n",
        "Recall that the sample mean's expected value is always $\\mu$, which here is 0, and that its standard deviation is $\\frac\\sigma{\\sqrt n}$, which here is $\\frac1{\\sqrt n}$. The dashed black line shows this value and its negation. \n",
        "\n",
        "Observe:\n",
        "* When the sample size $n$ increases, all curves get closer to the distribution mean 0.\n",
        "* The $r$ sample means are typically bounded between the positive and negative standard deviations."
      ]
    },
    {
      "metadata": {
        "scrolled": true,
        "id": "8rwHDHpo7Ak6",
        "colab_type": "code",
        "outputId": "d6a1ce81-f1fc-4c2a-9150-47408e6426ce",
        "colab": {}
      },
      "cell_type": "code",
      "source": [
        "widgets.interact(Sample_Mean,\n",
        "                 n=widgets.IntSlider(min=10, max=1000,description='sample size', step=10, value=100),\n",
        "                 r=widgets.IntSlider(min=1, max=10,description='experiments', step=1, value=5))"
      ],
      "execution_count": 0,
      "outputs": [
        {
          "output_type": "display_data",
          "data": {
            "application/vnd.jupyter.widget-view+json": {
              "model_id": "5c71f0ac790344dcbe2544a7ace13c67",
              "version_major": 2,
              "version_minor": 0
            },
            "text/plain": [
              "A Jupyter Widget"
            ]
          },
          "metadata": {
            "tags": []
          }
        },
        {
          "output_type": "execute_result",
          "data": {
            "text/plain": [
              "<function __main__.Sample_Mean>"
            ]
          },
          "metadata": {
            "tags": []
          },
          "execution_count": 3
        }
      ]
    },
    {
      "metadata": {
        "id": "XsLStUjc7Ak9",
        "colab_type": "text"
      },
      "cell_type": "markdown",
      "source": [
        "### Distribution of the sample mean\n",
        "\n",
        "Next consider the distribution of the sample mean $\\overline X$. In this example the underlying distribution is either uniform or standard Normal (you can comment the code to choose). You can see that as the sample size $n$ increases the distribution of $\\overline X$ becomes uniform, as predicted by the central limit theorem. If you sample from the normal distribution then $\\overline X$ is exactly normal for any $n$. "
      ]
    },
    {
      "metadata": {
        "id": "ykkB_Gsv7Ak-",
        "colab_type": "code",
        "outputId": "b25a6783-0337-41ac-dff8-31b2df08c30a",
        "colab": {}
      },
      "cell_type": "code",
      "source": [
        "@widgets.interact(n=(1,30))\n",
        "def Normal_Mean(n):\n",
        "# n: sample size\n",
        "# s: number of experiments\n",
        "    figure(figsize=(20,10))\n",
        "    title('histogram of sample means with sample size n=%d'%n,fontsize = 15)\n",
        "    xlabel('$\\overline{X}$',fontsize = 15)\n",
        "    ylabel('frequency', fontsize = 15)\n",
        "    grid()\n",
        "\n",
        "    s = 100000\n",
        "    \n",
        "    x = linspace(-4,4,1000)\n",
        "    #y = [norm.pdf(i,0,1) for i in x]\n",
        "    y = [uniform.pdf(i,0,1) for i in x]\n",
        "    plot(x,y)\n",
        "    \n",
        "    #X = random.normal(0,1,[n,s])\n",
        "    X= random.uniform(0,1,[n,s])\n",
        "    M = sum(X,axis=0)/n\n",
        "    hist(M,bins=40,normed=1)"
      ],
      "execution_count": 0,
      "outputs": [
        {
          "output_type": "display_data",
          "data": {
            "application/vnd.jupyter.widget-view+json": {
              "model_id": "e21d2b3ec8294b7ba6a7e6ed7809bf06",
              "version_major": 2,
              "version_minor": 0
            },
            "text/plain": [
              "A Jupyter Widget"
            ]
          },
          "metadata": {
            "tags": []
          }
        }
      ]
    },
    {
      "metadata": {
        "id": "3_0LZOeL7AlC",
        "colab_type": "text"
      },
      "cell_type": "markdown",
      "source": [
        "## Variance Estimation\n",
        "\n",
        "Next we estimate the variance. \n",
        "\n",
        "### Raw (biased) Estimator\n",
        "\n",
        "We start with the raw estimate that uses the intuitive normalization by $n$. We show experimentally that its expected value is $\\frac{n-1}n\\sigma^2$.\n",
        "\n",
        "In this example the underlying distribution is standard Normal (but you can easily modify the code). The green line shows the true distribution variance, here 1. The red line shows the average of the \"raw\" (biased) sample variance. Observe that as you change $n$, the red line is roughly at $\\frac{n-1}n$."
      ]
    },
    {
      "metadata": {
        "scrolled": true,
        "id": "hVIVKsf77AlC",
        "colab_type": "code",
        "colab": {}
      },
      "cell_type": "code",
      "source": [
        "def Normal_Variance(n,df):\n",
        "# n: sample size\n",
        "# s: number of experiments\n",
        "# df: degree of freedom\n",
        "#     df=0: calculate \"raw\" variance \n",
        "#     df=1: calculate unbiased variance \n",
        "    figure(figsize=(20,10))\n",
        "    xlim([0,4])\n",
        "    \n",
        "    s = 1000000\n",
        "    X = random.normal(0,1,[n,s])\n",
        "    V = var(X,axis=0,ddof=df)\n",
        "    v = mean(V)\n",
        "    \n",
        "    plot([v,v], [0, 3], 'r--', linewidth = 2.0)\n",
        "    hist(V,bins=60,normed=1);\n",
        "\n",
        "    plot([1,1], [0, 3], 'g:', linewidth = 2.0)\n",
        "    ylabel('frequency', fontsize = 15)\n",
        "    grid()"
      ],
      "execution_count": 0,
      "outputs": []
    },
    {
      "metadata": {
        "scrolled": false,
        "id": "ryH7Q2zu7AlF",
        "colab_type": "code",
        "outputId": "d05dba56-21ad-4cfb-e42b-e71cf887e572",
        "colab": {}
      },
      "cell_type": "code",
      "source": [
        "@widgets.interact(n=(2,20))\n",
        "def Raw_Variance(n):\n",
        "    Normal_Variance(n,0)\n",
        "    title('histogram of \"raw\" sample variance with sample size n=%d'%n,fontsize = 15)\n",
        "    xlabel('\"$S^2$\"', fontsize = 15)\n"
      ],
      "execution_count": 0,
      "outputs": [
        {
          "output_type": "display_data",
          "data": {
            "application/vnd.jupyter.widget-view+json": {
              "model_id": "a318b42bf4e242769ef9039b3c26588e",
              "version_major": 2,
              "version_minor": 0
            },
            "text/plain": [
              "A Jupyter Widget"
            ]
          },
          "metadata": {
            "tags": []
          }
        }
      ]
    },
    {
      "metadata": {
        "id": "74H7INuP7AlH",
        "colab_type": "text"
      },
      "cell_type": "markdown",
      "source": [
        "### Unbiased Variance Estimator\n",
        "\n",
        "Next we apply the Bessel correction, where instead of normalizing by $n$, we normalize by $n-1$. We show experimentally that this estimator is unbiased.\n",
        "\n",
        "Again, the underlying distribution is standard Normal. The red line shows the expectation of the unbiased sample variance and the blue line shows the true distribution variance. And we can see that those two lines overlap for all $n$."
      ]
    },
    {
      "metadata": {
        "scrolled": true,
        "id": "UE_EjRns7AlI",
        "colab_type": "code",
        "outputId": "8f3eb6a7-4bee-429a-8c1b-69149396a560",
        "colab": {}
      },
      "cell_type": "code",
      "source": [
        "@widgets.interact(n=(2,20))\n",
        "def Unbiased_Variance(n):\n",
        "    Normal_Variance(n,1)\n",
        "    title('histogram of unbiased sample variance with sample size n=%d'%n,fontsize = 15)\n",
        "    xlabel('$S^2$', fontsize = 15)"
      ],
      "execution_count": 0,
      "outputs": [
        {
          "output_type": "display_data",
          "data": {
            "application/vnd.jupyter.widget-view+json": {
              "model_id": "6f8af789c14448cea257ae583af103f8",
              "version_major": 2,
              "version_minor": 0
            },
            "text/plain": [
              "A Jupyter Widget"
            ]
          },
          "metadata": {
            "tags": []
          }
        }
      ]
    },
    {
      "metadata": {
        "id": "AFZlEnGC7AlN",
        "colab_type": "text"
      },
      "cell_type": "markdown",
      "source": [
        "## Estimating the standad deviation\n",
        "\n",
        "We apply the standard standard-deviation estimator and show that on average it underestimates $\\sigma$. "
      ]
    },
    {
      "metadata": {
        "scrolled": true,
        "id": "ADH9oUNb7AlO",
        "colab_type": "code",
        "colab": {}
      },
      "cell_type": "code",
      "source": [
        "def Normal_SD(n):\n",
        "# n: sample size\n",
        "# s: number of experiments\n",
        "\n",
        "    figure(figsize=(20,10))\n",
        "    xlim([0,3])\n",
        "    title('histogram of sample standard deviation with sample size n=%d'%n,fontsize = 15)\n",
        "    xlabel('$\\hat{\\sigma}$', fontsize = 15)\n",
        "    \n",
        "    s = 1000000\n",
        "    X = random.normal(0,1,[n,s])\n",
        "    V = sqrt(var(X,axis=0,ddof=1))\n",
        "    v = mean(V)\n",
        "    \n",
        "    plot([v,v], [0, 3], 'r--', linewidth = 2.0)\n",
        "    hist(V,bins=60,normed=1);\n",
        "\n",
        "    plot([1,1], [0, 3], 'g:', linewidth = 2.0)\n",
        "    ylabel('frequency', fontsize = 15)\n",
        "    grid() "
      ],
      "execution_count": 0,
      "outputs": []
    },
    {
      "metadata": {
        "id": "XI7bDDgR7AlQ",
        "colab_type": "text"
      },
      "cell_type": "markdown",
      "source": [
        "We continu to use the standard normal as the underlying distribution. The green line shows the distribution's true standard deviation $\\sigma=1$. The red line shows the average of the sample standard deviation (square root of unbiased sample variance). Observe that the sample standard deviation underestimates $\\sigma$, but this underestimate shrinks as you increase $n$."
      ]
    },
    {
      "metadata": {
        "scrolled": false,
        "id": "YazQFa5Z7AlR",
        "colab_type": "code",
        "outputId": "b699c8e8-e90f-42da-f9f4-db615b339831",
        "colab": {}
      },
      "cell_type": "code",
      "source": [
        "widgets.interact(\n",
        "    Normal_SD,\n",
        "    n = widgets.IntSlider(min=2, max=10,description='n=', step=1, value=2))"
      ],
      "execution_count": 0,
      "outputs": [
        {
          "output_type": "display_data",
          "data": {
            "application/vnd.jupyter.widget-view+json": {
              "model_id": "ac34006588344398a74ce722ec688ab2",
              "version_major": 2,
              "version_minor": 0
            },
            "text/plain": [
              "A Jupyter Widget"
            ]
          },
          "metadata": {
            "tags": []
          }
        },
        {
          "output_type": "execute_result",
          "data": {
            "text/plain": [
              "<function __main__.Normal_SD>"
            ]
          },
          "metadata": {
            "tags": []
          },
          "execution_count": 12
        }
      ]
    },
    {
      "metadata": {
        "id": "YtyiZ6m57AlT",
        "colab_type": "code",
        "colab": {}
      },
      "cell_type": "code",
      "source": [
        ""
      ],
      "execution_count": 0,
      "outputs": []
    }
  ]
}